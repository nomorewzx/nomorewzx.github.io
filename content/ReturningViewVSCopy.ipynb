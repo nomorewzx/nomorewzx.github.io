{
 "cells": [
  {
   "cell_type": "markdown",
   "metadata": {},
   "source": [
    "当给一个pandas 对象赋值时, 一定要小心, 避免使用 `Chained Indexing`进行赋值, 而应该使用 `.loc[:,'column']` 方式赋值."
   ]
  },
  {
   "cell_type": "code",
   "execution_count": 1,
   "metadata": {
    "collapsed": true
   },
   "outputs": [],
   "source": [
    "import pandas as pd\n",
    "import numpy as np"
   ]
  },
  {
   "cell_type": "markdown",
   "metadata": {},
   "source": [
    "#### 索引"
   ]
  },
  {
   "cell_type": "markdown",
   "metadata": {},
   "source": [
    "我们先用 Chained Index 和 loc Index分别去索引一个Dataframe中的一列."
   ]
  },
  {
   "cell_type": "code",
   "execution_count": 2,
   "metadata": {
    "collapsed": true
   },
   "outputs": [],
   "source": [
    "raw_list = [list('abcd'),list('efgh'),list('ijkl'),list('mnop')]\n",
    "dfmi = pd.DataFrame(raw_list, columns=pd.MultiIndex.from_product([['one', 'two'], ['first', 'second']]))"
   ]
  },
  {
   "cell_type": "code",
   "execution_count": 3,
   "metadata": {
    "collapsed": false
   },
   "outputs": [
    {
     "data": {
      "text/html": [
       "<div>\n",
       "<style scoped>\n",
       "    .dataframe tbody tr th:only-of-type {\n",
       "        vertical-align: middle;\n",
       "    }\n",
       "\n",
       "    .dataframe tbody tr th {\n",
       "        vertical-align: top;\n",
       "    }\n",
       "\n",
       "    .dataframe thead tr th {\n",
       "        text-align: left;\n",
       "    }\n",
       "</style>\n",
       "<table border=\"1\" class=\"dataframe\">\n",
       "  <thead>\n",
       "    <tr>\n",
       "      <th></th>\n",
       "      <th colspan=\"2\" halign=\"left\">one</th>\n",
       "      <th colspan=\"2\" halign=\"left\">two</th>\n",
       "    </tr>\n",
       "    <tr>\n",
       "      <th></th>\n",
       "      <th>first</th>\n",
       "      <th>second</th>\n",
       "      <th>first</th>\n",
       "      <th>second</th>\n",
       "    </tr>\n",
       "  </thead>\n",
       "  <tbody>\n",
       "    <tr>\n",
       "      <th>0</th>\n",
       "      <td>a</td>\n",
       "      <td>b</td>\n",
       "      <td>c</td>\n",
       "      <td>d</td>\n",
       "    </tr>\n",
       "    <tr>\n",
       "      <th>1</th>\n",
       "      <td>e</td>\n",
       "      <td>f</td>\n",
       "      <td>g</td>\n",
       "      <td>h</td>\n",
       "    </tr>\n",
       "    <tr>\n",
       "      <th>2</th>\n",
       "      <td>i</td>\n",
       "      <td>j</td>\n",
       "      <td>k</td>\n",
       "      <td>l</td>\n",
       "    </tr>\n",
       "    <tr>\n",
       "      <th>3</th>\n",
       "      <td>m</td>\n",
       "      <td>n</td>\n",
       "      <td>o</td>\n",
       "      <td>p</td>\n",
       "    </tr>\n",
       "  </tbody>\n",
       "</table>\n",
       "</div>"
      ],
      "text/plain": [
       "    one          two       \n",
       "  first second first second\n",
       "0     a      b     c      d\n",
       "1     e      f     g      h\n",
       "2     i      j     k      l\n",
       "3     m      n     o      p"
      ]
     },
     "execution_count": 3,
     "metadata": {},
     "output_type": "execute_result"
    }
   ],
   "source": [
    "dfmi"
   ]
  },
  {
   "cell_type": "markdown",
   "metadata": {},
   "source": [
    "**在以上的代码中, `MultiIndex` 是模拟 `Hierarchical Indexing`, 这种Index方式允许程序员以低维度数据结构(Series, DataFrame)存储和操作任意维度的数据. MultiIndex 类可以通过 List of Arrays, List of Tuples,和两个list的笛卡尔积去创建.**"
   ]
  },
  {
   "cell_type": "markdown",
   "metadata": {},
   "source": [
    "现在如果要索引到 ('one', 'second') 这一列, 有两种索引方法:"
   ]
  },
  {
   "cell_type": "markdown",
   "metadata": {},
   "source": [
    "1：Chained 方式"
   ]
  },
  {
   "cell_type": "code",
   "execution_count": 6,
   "metadata": {
    "collapsed": false
   },
   "outputs": [
    {
     "data": {
      "text/plain": [
       "0    b\n",
       "1    f\n",
       "2    j\n",
       "3    n\n",
       "Name: second, dtype: object"
      ]
     },
     "execution_count": 6,
     "metadata": {},
     "output_type": "execute_result"
    }
   ],
   "source": [
    "dfmi['one']['second']"
   ]
  },
  {
   "cell_type": "markdown",
   "metadata": {},
   "source": [
    "2: .loc 方式"
   ]
  },
  {
   "cell_type": "code",
   "execution_count": 7,
   "metadata": {
    "collapsed": false
   },
   "outputs": [
    {
     "data": {
      "text/plain": [
       "0    b\n",
       "1    f\n",
       "2    j\n",
       "3    n\n",
       "Name: (one, second), dtype: object"
      ]
     },
     "execution_count": 7,
     "metadata": {},
     "output_type": "execute_result"
    }
   ],
   "source": [
    "dfmi.loc[:, ('one', 'second')]"
   ]
  },
  {
   "cell_type": "markdown",
   "metadata": {},
   "source": [
    "第一种Chained方式, 等价于 `dfmi.__get__item__('one').__get__item__('second') `.\n",
    "\n",
    "即会先用 `dfmi['one']` 索引到一个DataFrame, 我们把它命名为dfmi_one (结果见上), 然后用 `dfmi_one['second']` 去索引Series. Pandas在这个过程中调用了两次 `__get_item__` 方法.\n",
    "\n",
    "第二种.loc 方式, `dfmi.loc[:, ('one', 'second')]`等价于 `dfmi.loc.__get_item__((slice(None), ('one', 'second')))`.\n",
    "\n",
    "将一组嵌套tuple `(slice(None), ('one', 'second'))` 直接传递给 `__get_item__`, 只用一次操作就将期望的Series取出. 这种方式明显速度更快.\n",
    "\n",
    "当然这只是速度上的对比, 当我们用以上两种方式赋值时,会发生什么?"
   ]
  },
  {
   "cell_type": "markdown",
   "metadata": {},
   "source": [
    "#### 不同的赋值方式与SettingWithCopyWarning"
   ]
  },
  {
   "cell_type": "code",
   "execution_count": 39,
   "metadata": {
    "collapsed": false
   },
   "outputs": [],
   "source": [
    "to_set_value_1 = pd.Series(list('xyza'))\n",
    "dfmi_chained = pd.DataFrame(raw_list, columns=pd.MultiIndex.from_product([['one', 'two'], ['first', 'second']]))\n",
    "dfmi_loc = pd.DataFrame(raw_list, columns=pd.MultiIndex.from_product([['one', 'two'], ['first', 'second']]))"
   ]
  },
  {
   "cell_type": "markdown",
   "metadata": {},
   "source": [
    "在上面的代码中, 我们新建一个Series. 以及两个相同的DataFrame, 后续会分别用于chained索引并赋值, 以及.loc索引并赋值."
   ]
  },
  {
   "cell_type": "code",
   "execution_count": 41,
   "metadata": {
    "collapsed": false,
    "scrolled": false
   },
   "outputs": [
    {
     "name": "stderr",
     "output_type": "stream",
     "text": [
      "/Users/zxwang/.pyenv/versions/tensorflow/lib/python3.6/site-packages/ipykernel_launcher.py:1: SettingWithCopyWarning: \n",
      "A value is trying to be set on a copy of a slice from a DataFrame.\n",
      "Try using .loc[row_indexer,col_indexer] = value instead\n",
      "\n",
      "See the caveats in the documentation: http://pandas.pydata.org/pandas-docs/stable/indexing.html#indexing-view-versus-copy\n",
      "  \"\"\"Entry point for launching an IPython kernel.\n"
     ]
    }
   ],
   "source": [
    "dfmi_chained['one']['second'] = to_set_value"
   ]
  },
  {
   "cell_type": "code",
   "execution_count": 42,
   "metadata": {
    "collapsed": false,
    "scrolled": true
   },
   "outputs": [
    {
     "data": {
      "text/html": [
       "<div>\n",
       "<style scoped>\n",
       "    .dataframe tbody tr th:only-of-type {\n",
       "        vertical-align: middle;\n",
       "    }\n",
       "\n",
       "    .dataframe tbody tr th {\n",
       "        vertical-align: top;\n",
       "    }\n",
       "\n",
       "    .dataframe thead tr th {\n",
       "        text-align: left;\n",
       "    }\n",
       "</style>\n",
       "<table border=\"1\" class=\"dataframe\">\n",
       "  <thead>\n",
       "    <tr>\n",
       "      <th></th>\n",
       "      <th colspan=\"2\" halign=\"left\">one</th>\n",
       "      <th colspan=\"2\" halign=\"left\">two</th>\n",
       "    </tr>\n",
       "    <tr>\n",
       "      <th></th>\n",
       "      <th>first</th>\n",
       "      <th>second</th>\n",
       "      <th>first</th>\n",
       "      <th>second</th>\n",
       "    </tr>\n",
       "  </thead>\n",
       "  <tbody>\n",
       "    <tr>\n",
       "      <th>0</th>\n",
       "      <td>a</td>\n",
       "      <td>x</td>\n",
       "      <td>c</td>\n",
       "      <td>d</td>\n",
       "    </tr>\n",
       "    <tr>\n",
       "      <th>1</th>\n",
       "      <td>e</td>\n",
       "      <td>y</td>\n",
       "      <td>g</td>\n",
       "      <td>h</td>\n",
       "    </tr>\n",
       "    <tr>\n",
       "      <th>2</th>\n",
       "      <td>i</td>\n",
       "      <td>z</td>\n",
       "      <td>k</td>\n",
       "      <td>l</td>\n",
       "    </tr>\n",
       "    <tr>\n",
       "      <th>3</th>\n",
       "      <td>m</td>\n",
       "      <td>a</td>\n",
       "      <td>o</td>\n",
       "      <td>p</td>\n",
       "    </tr>\n",
       "  </tbody>\n",
       "</table>\n",
       "</div>"
      ],
      "text/plain": [
       "    one          two       \n",
       "  first second first second\n",
       "0     a      x     c      d\n",
       "1     e      y     g      h\n",
       "2     i      z     k      l\n",
       "3     m      a     o      p"
      ]
     },
     "execution_count": 42,
     "metadata": {},
     "output_type": "execute_result"
    }
   ],
   "source": [
    "dfmi_chained"
   ]
  },
  {
   "cell_type": "code",
   "execution_count": 44,
   "metadata": {
    "collapsed": true
   },
   "outputs": [],
   "source": [
    "dfmi_loc.loc[:, ('one', 'second')] = to_set_value"
   ]
  },
  {
   "cell_type": "code",
   "execution_count": 45,
   "metadata": {
    "collapsed": false
   },
   "outputs": [
    {
     "data": {
      "text/html": [
       "<div>\n",
       "<style scoped>\n",
       "    .dataframe tbody tr th:only-of-type {\n",
       "        vertical-align: middle;\n",
       "    }\n",
       "\n",
       "    .dataframe tbody tr th {\n",
       "        vertical-align: top;\n",
       "    }\n",
       "\n",
       "    .dataframe thead tr th {\n",
       "        text-align: left;\n",
       "    }\n",
       "</style>\n",
       "<table border=\"1\" class=\"dataframe\">\n",
       "  <thead>\n",
       "    <tr>\n",
       "      <th></th>\n",
       "      <th colspan=\"2\" halign=\"left\">one</th>\n",
       "      <th colspan=\"2\" halign=\"left\">two</th>\n",
       "    </tr>\n",
       "    <tr>\n",
       "      <th></th>\n",
       "      <th>first</th>\n",
       "      <th>second</th>\n",
       "      <th>first</th>\n",
       "      <th>second</th>\n",
       "    </tr>\n",
       "  </thead>\n",
       "  <tbody>\n",
       "    <tr>\n",
       "      <th>0</th>\n",
       "      <td>a</td>\n",
       "      <td>x</td>\n",
       "      <td>c</td>\n",
       "      <td>d</td>\n",
       "    </tr>\n",
       "    <tr>\n",
       "      <th>1</th>\n",
       "      <td>e</td>\n",
       "      <td>y</td>\n",
       "      <td>g</td>\n",
       "      <td>h</td>\n",
       "    </tr>\n",
       "    <tr>\n",
       "      <th>2</th>\n",
       "      <td>i</td>\n",
       "      <td>z</td>\n",
       "      <td>k</td>\n",
       "      <td>l</td>\n",
       "    </tr>\n",
       "    <tr>\n",
       "      <th>3</th>\n",
       "      <td>m</td>\n",
       "      <td>a</td>\n",
       "      <td>o</td>\n",
       "      <td>p</td>\n",
       "    </tr>\n",
       "  </tbody>\n",
       "</table>\n",
       "</div>"
      ],
      "text/plain": [
       "    one          two       \n",
       "  first second first second\n",
       "0     a      x     c      d\n",
       "1     e      y     g      h\n",
       "2     i      z     k      l\n",
       "3     m      a     o      p"
      ]
     },
     "execution_count": 45,
     "metadata": {},
     "output_type": "execute_result"
    }
   ],
   "source": [
    "dfmi_loc"
   ]
  },
  {
   "cell_type": "markdown",
   "metadata": {},
   "source": [
    "先来看一下上面的代码发生了什么. "
   ]
  },
  {
   "cell_type": "markdown",
   "metadata": {},
   "source": [
    "两种不同的赋值方式得到的结果如下:\n",
    "\n",
    "1. Chained 赋值:\n",
    "我们在赋值结束后会看到一个 Warning:\"SettingWithCopyWarning\". 查看 `dfmi_chained` 的值,此时对应的索引已经赋值. \n",
    "\n",
    "2. .loc 赋值:\n",
    "正常赋值, 没有Warning, 查看 `dfmi_loc` 的值, DataFrame中对应的值已经赋值成功.\n",
    "\n",
    "那什么是 \"SettingWithCopyWarning\"? 为什么Chained Indexing 赋值会引发这个Warning?\n",
    "\n",
    "\"SettingWithCopyWarning\" warning指你可能在给一个被Copy的Datframe赋值, 这个赋值很可能不会影响到原Dataframe.\n",
    "\n",
    "我们把 `dfmi_chained['one']['second'] = to_set_value` 这个赋值语句等价于以下语句: \n",
    "\n",
    "    `dfmi.__get_item__('one').__set_item_('second', to_set_value)`\n",
    "\n",
    "注意它会先使用 `__get_item__('one')` 拿出一个Dataframe. 在其它情况下可能是拿出一个Series, 或者其它什么对象. Pandas此时并不清楚拿到的对象, 是原对象的引用, 还是一个被Copy过的新对象. 因此也就无法保证 `__set_item('second', to_set_value)` 这个赋值语句, 会对原来的对象也赋值. 这也是Warning被抛出的原因.\n",
    "\n",
    "对于第二种 .loc 索引 + 赋值的语句 `dfmi.loc[:, ('one', 'second')] = to_set_value`. 等价于以下语句\n",
    "    `dfmi.loc.__set_item__((slice(None), ('one', 'second')), to_set_value)`\n",
    "嗯..所以是直接调用了 .loc属性返回值的 `__set_item__` 方法. Pandas已经确保了 `dataframe.loc`属性就是 dataframe 自身, 只不过是更改了dataframe的索引方法, 因此 `.loc.__set_item__()` 就是对dataframe自身进行操作的. \n",
    "\n",
    "也可以理解为, 第二种方式,并不是先“索引”Series，再赋值. 而是直接将值赋给dataframe里对应索引的Series. \n",
    "\n",
    "如果第二种方式赋值方法等价于\n",
    " `dfmi.loc.__get__item__(params).__set_item__(to_set_value)`,  那么其实也是会遇到 \"SettingWithCopyWarning\", 因为 `__get_item__()` 方法有可能返回对象的引用, 有可能返回Copy值. \n",
    "\n",
    "所以两者的区别在于 Chained 赋值的方式是先索引到对象, 再更改对象的值. 而 .loc 赋值是直接去更改原始Dataframe的对应索引的值.\n"
   ]
  }
 ],
 "metadata": {
  "kernelspec": {
   "display_name": "tensorflow-pyenv",
   "language": "python",
   "name": "tensorflow"
  },
  "language_info": {
   "codemirror_mode": {
    "name": "ipython",
    "version": 3
   },
   "file_extension": ".py",
   "mimetype": "text/x-python",
   "name": "python",
   "nbconvert_exporter": "python",
   "pygments_lexer": "ipython3",
   "version": "3.6.3"
  }
 },
 "nbformat": 4,
 "nbformat_minor": 1
}
